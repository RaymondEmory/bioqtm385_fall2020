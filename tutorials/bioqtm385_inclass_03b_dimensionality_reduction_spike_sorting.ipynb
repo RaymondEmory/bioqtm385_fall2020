{
  "nbformat": 4,
  "nbformat_minor": 0,
  "metadata": {
    "colab": {
      "name": "bioqtm385-inclass-03b-dimensionality-reduction-spike-sorting.ipynb",
      "provenance": []
    },
    "kernelspec": {
      "name": "python3",
      "display_name": "Python 3"
    }
  },
  "cells": [
    {
      "cell_type": "markdown",
      "metadata": {
        "id": "li6uMgPuIfKn",
        "colab_type": "text"
      },
      "source": [
        "##**BIO/QTM 385: In class exercise for Monday, September 14th (dimensionality recution, continued)** \n",
        "\n",
        "(Answers to these questions will be part of Homework #3, likely due on 9/30)"
      ]
    },
    {
      "cell_type": "markdown",
      "metadata": {
        "id": "SbvydZp2Ioda",
        "colab_type": "text"
      },
      "source": [
        "<font color='green'>**Enter your names and group number here.**  </font>"
      ]
    },
    {
      "cell_type": "markdown",
      "metadata": {
        "id": "bkVLVzogIuAM",
        "colab_type": "text"
      },
      "source": [
        "For this exercise, we will explore how dimensionality reduction works when applied to some real data.  As always, all questions to be answered will be in <font color=\"blue\"> blue</font> and places to write your answers will be in <font color=\"green\"> green</font>.  Work on this section after finishing the previous notebook, and Sean and I will be moving through the breakout rooms to help."
      ]
    },
    {
      "cell_type": "markdown",
      "metadata": {
        "id": "E22TwVPsIUk0",
        "colab_type": "text"
      },
      "source": [
        "###Import Useful Modules"
      ]
    },
    {
      "cell_type": "code",
      "metadata": {
        "id": "b17UiLtUBUde",
        "colab_type": "code",
        "colab": {}
      },
      "source": [
        "#import various useful packages\n",
        "import numpy as np\n",
        "import matplotlib.pyplot as plt\n",
        "import numpy.random as random\n",
        "import pandas as pd\n",
        "%matplotlib inline\n",
        "\n",
        "#importing dimensionality reduction packages\n",
        "from sklearn.decomposition import PCA\n",
        "from sklearn.decomposition import NMF\n",
        "from sklearn.manifold import MDS\n",
        "from sklearn.manifold import Isomap \n",
        "from sklearn.manifold import LocallyLinearEmbedding\n",
        "from sklearn.manifold import TSNE\n",
        "import umap\n",
        "\n",
        "#importing clustering packages\n",
        "from sklearn.cluster import KMeans\n",
        "from sklearn.mixture import GaussianMixture"
      ],
      "execution_count": null,
      "outputs": []
    },
    {
      "cell_type": "markdown",
      "metadata": {
        "id": "AchQ1qHmIQ4A",
        "colab_type": "text"
      },
      "source": [
        "###Spike Sorting\n",
        "Spike sorting is a common (and annoying) problem in electrophysiological data, where spikes from multiple neurons appear on a single electrode and one wishes to assign each spike to its associated neuron.  This problem will deal with an example neural data set taken by Prof. Samuel Sober in the Emory Biology Department."
      ]
    },
    {
      "cell_type": "markdown",
      "metadata": {
        "id": "-jvKDt3RJC56",
        "colab_type": "text"
      },
      "source": [
        "To start, we will import the data into the notebook as an an $N\\times d$ matrix, where each row is a different voltage recording from an electrical channel during a spike, and each column is a different time point.  Time is increasing with along the columns, with each column representing a time increase of 1ms (t=0,1,...,33 ms), and the units of the electrical voltages are in $\\mu V$.  There are 3636 different recordings here."
      ]
    },
    {
      "cell_type": "code",
      "metadata": {
        "id": "a2tbxsSB8oCV",
        "colab_type": "code",
        "colab": {}
      },
      "source": [
        "url = 'https://raw.githubusercontent.com/gordonberman/bioqtm385_fall2020/master/data/spike_data.csv'\n",
        "spike_data_df = pd.read_csv(url,header=None)\n",
        "spike_data = spike_data_df.to_numpy()\n",
        "np.shape(spike_data)"
      ],
      "execution_count": null,
      "outputs": []
    },
    {
      "cell_type": "markdown",
      "metadata": {
        "id": "O3XNNAWdJ0yg",
        "colab_type": "text"
      },
      "source": [
        "<font color=\"blue\">Question #1: Plot 50 randomly-chosen spike waveforms (i.e., rows) from the data.  How many different 'types' of spike patterns do you see?</font>"
      ]
    },
    {
      "cell_type": "code",
      "metadata": {
        "id": "6Gh92u8qBo4_",
        "colab_type": "code",
        "colab": {}
      },
      "source": [
        "#Enter code for Question #1 here"
      ],
      "execution_count": null,
      "outputs": []
    },
    {
      "cell_type": "markdown",
      "metadata": {
        "id": "6ujRv-ZXLjYf",
        "colab_type": "text"
      },
      "source": [
        "<font color=\"green\">How many different 'types' of spike patterns do you see?</font>"
      ]
    },
    {
      "cell_type": "markdown",
      "metadata": {
        "id": "x-sRYxyRLsPC",
        "colab_type": "text"
      },
      "source": [
        "<font color=\"blue\"> Question #2: In general, each 'type' of spike likely corresponds to a different neuron.  Using all of the dimensionality reduction and clustering techniques you know so far (or others that you happen to know or look up): </font> \n",
        "\n",
        "<font color=\"blue\"> a) determine how many neurons are in your data set</font> \n",
        "\n",
        "<font color=\"blue\"> and </font> \n",
        "\n",
        "<font color=\"blue\"> b) assign each recording to the appropriate neuron </font> \n",
        "\n",
        "<font color=\"blue\"> Use plots and quantitative evidence to back-up your assertions. </font> \n"
      ]
    },
    {
      "cell_type": "code",
      "metadata": {
        "id": "0Lt6Q8cXNFo1",
        "colab_type": "code",
        "colab": {}
      },
      "source": [
        "#Enter code for Question #2 here"
      ],
      "execution_count": null,
      "outputs": []
    },
    {
      "cell_type": "markdown",
      "metadata": {
        "id": "mDeEIiUDLsJM",
        "colab_type": "text"
      },
      "source": [
        "<font color=\"green\"> Type reasoning for Question #2 here"
      ]
    }
  ]
}